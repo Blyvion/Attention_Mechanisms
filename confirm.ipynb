{
 "cells": [
  {
   "cell_type": "code",
   "execution_count": 44,
   "metadata": {},
   "outputs": [
    {
     "name": "stdout",
     "output_type": "stream",
     "text": [
      "(3, 2) (6, 2) (10, 3) (10, 6)\n"
     ]
    }
   ],
   "source": [
    "import numpy as np\t\n",
    "# confirm alignment model\n",
    "S = np.array([[1,2],\n",
    "\t\t\t  [2,2],\n",
    "\t\t\t  [3,2]])\n",
    "\n",
    "h = np.array([[10,2],\n",
    "\t\t\t  [20,2],\n",
    "\t\t\t  [30,2],\n",
    "\t\t\t  [40,2],\n",
    "\t\t\t  [50,2],\n",
    "\t\t\t  [60,2]])\n",
    "\n",
    "W = np.ones((10,3))\n",
    "U = np.ones((10,6))*9\n",
    "\n",
    "S = np.random.rand(3,2)\n",
    "h = np.random.rand(6,2)\n",
    "W = np.random.rand(10,3)\n",
    "U = np.random.rand(10,6)\n",
    "\n",
    "print(S.shape, h.shape, W.shape, U.shape)"
   ]
  },
  {
   "cell_type": "code",
   "execution_count": 45,
   "metadata": {},
   "outputs": [
    {
     "data": {
      "text/plain": [
       "array([[1.87096541, 1.90609913],\n",
       "       [3.10089878, 2.61209363],\n",
       "       [2.0928452 , 1.48888796],\n",
       "       [2.80983813, 2.3132025 ],\n",
       "       [2.79189207, 2.84077633],\n",
       "       [1.79792334, 2.24967817],\n",
       "       [2.7736343 , 2.06791191],\n",
       "       [1.82941322, 1.93916799],\n",
       "       [2.40782566, 2.31579398],\n",
       "       [2.58397047, 2.11645918]])"
      ]
     },
     "execution_count": 45,
     "metadata": {},
     "output_type": "execute_result"
    }
   ],
   "source": [
    "(W@S)+(U@h)"
   ]
  },
  {
   "cell_type": "code",
   "execution_count": 50,
   "metadata": {},
   "outputs": [
    {
     "name": "stdout",
     "output_type": "stream",
     "text": [
      "(10, 9)\n"
     ]
    }
   ],
   "source": [
    "input = np.concat([S, h], axis=0)\n",
    "weight = np.concat([W,U], axis=1)\n",
    "print(weight.shape)"
   ]
  },
  {
   "cell_type": "code",
   "execution_count": 47,
   "metadata": {},
   "outputs": [
    {
     "data": {
      "text/plain": [
       "array([[1.87096541, 1.90609913],\n",
       "       [3.10089878, 2.61209363],\n",
       "       [2.0928452 , 1.48888796],\n",
       "       [2.80983813, 2.3132025 ],\n",
       "       [2.79189207, 2.84077633],\n",
       "       [1.79792334, 2.24967817],\n",
       "       [2.7736343 , 2.06791191],\n",
       "       [1.82941322, 1.93916799],\n",
       "       [2.40782566, 2.31579398],\n",
       "       [2.58397047, 2.11645918]])"
      ]
     },
     "execution_count": 47,
     "metadata": {},
     "output_type": "execute_result"
    }
   ],
   "source": [
    "weight@input"
   ]
  },
  {
   "cell_type": "code",
   "execution_count": 1,
   "metadata": {},
   "outputs": [
    {
     "name": "stdout",
     "output_type": "stream",
     "text": [
      "torch.Size([6, 7, 20])\n",
      "torch.Size([2, 6, 10])\n"
     ]
    }
   ],
   "source": [
    "import torch\n",
    "# confirm the structure of hn when bidirectional = True\n",
    "\n",
    "model = torch.nn.RNN(input_size=3, hidden_size=10, bidirectional=True, batch_first=True)\n",
    "input = torch.rand((6, 7, 3)) # batch, seq len, input size\n",
    "output, hn = model(input)\n",
    "# output dim = (batch, seq len, 2 * hidden_size)\n",
    "# hn = (2 * num layers, batch, hidden_size)\n",
    "print(output.size())\n",
    "print(hn.size())"
   ]
  },
  {
   "cell_type": "raw",
   "metadata": {
    "vscode": {
     "languageId": "raw"
    }
   },
   "source": [
    "For bidirectional LSTMs, h_n is not equivalent to the last element of output;\n",
    "the former contains the final forward and reverse hidden states,\n",
    "while the latter contains the final forward hidden state and the initial reverse hidden state.\n",
    "\n",
    "https://pytorch.org/docs/stable/generated/torch.nn.LSTM.html\n",
    " - this is note noted in rnn or gru though."
   ]
  },
  {
   "cell_type": "code",
   "execution_count": 2,
   "metadata": {},
   "outputs": [
    {
     "data": {
      "text/plain": [
       "tensor([-0.2541,  0.5397,  0.3951,  0.1008,  0.2116,  0.1159,  0.0113,  0.0646,\n",
       "        -0.3351, -0.1976,  0.5432, -0.2026, -0.0685,  0.4436,  0.2436, -0.2361,\n",
       "        -0.0592,  0.0692,  0.0390,  0.1748], grad_fn=<SelectBackward0>)"
      ]
     },
     "execution_count": 2,
     "metadata": {},
     "output_type": "execute_result"
    }
   ],
   "source": [
    "output[0, -1]"
   ]
  },
  {
   "cell_type": "code",
   "execution_count": 3,
   "metadata": {},
   "outputs": [
    {
     "data": {
      "text/plain": [
       "tensor([[-0.2541,  0.5397,  0.3951,  0.1008,  0.2116,  0.1159,  0.0113,  0.0646,\n",
       "         -0.3351, -0.1976],\n",
       "        [ 0.5432, -0.2026, -0.0685,  0.4436,  0.2436, -0.2361, -0.0592,  0.0692,\n",
       "          0.0390,  0.1748]], grad_fn=<SelectBackward0>)"
      ]
     },
     "execution_count": 3,
     "metadata": {},
     "output_type": "execute_result"
    }
   ],
   "source": [
    "output.view(6, 7, 2, 10)[0][-1] # looking at batch, seq length, direction, hidden size"
   ]
  },
  {
   "cell_type": "code",
   "execution_count": 4,
   "metadata": {},
   "outputs": [
    {
     "data": {
      "text/plain": [
       "tensor([-0.2541,  0.5397,  0.3951,  0.1008,  0.2116,  0.1159,  0.0113,  0.0646,\n",
       "        -0.3351, -0.1976], grad_fn=<SelectBackward0>)"
      ]
     },
     "execution_count": 4,
     "metadata": {},
     "output_type": "execute_result"
    }
   ],
   "source": [
    "hn[-2,0] # final forward"
   ]
  },
  {
   "cell_type": "code",
   "execution_count": 5,
   "metadata": {},
   "outputs": [
    {
     "data": {
      "text/plain": [
       "tensor([ 0.6079, -0.3324,  0.7227,  0.4230,  0.7632, -0.3598, -0.0692, -0.4670,\n",
       "         0.5112,  0.1650], grad_fn=<SelectBackward0>)"
      ]
     },
     "execution_count": 5,
     "metadata": {},
     "output_type": "execute_result"
    }
   ],
   "source": [
    "hn[-1,0] # final backward"
   ]
  },
  {
   "cell_type": "code",
   "execution_count": 7,
   "metadata": {},
   "outputs": [
    {
     "data": {
      "text/plain": [
       "tensor([-0.1180,  0.3175, -0.0283, -0.0705, -0.1623,  0.1186, -0.0689, -0.0179,\n",
       "        -0.5037,  0.0199,  0.6079, -0.3324,  0.7227,  0.4230,  0.7632, -0.3598,\n",
       "        -0.0692, -0.4670,  0.5112,  0.1650], grad_fn=<SelectBackward0>)"
      ]
     },
     "execution_count": 7,
     "metadata": {},
     "output_type": "execute_result"
    }
   ],
   "source": [
    "output[0, 0] # initial forward, final backward"
   ]
  },
  {
   "cell_type": "code",
   "execution_count": 8,
   "metadata": {},
   "outputs": [
    {
     "data": {
      "text/plain": [
       "tensor([-0.2541,  0.5397,  0.3951,  0.1008,  0.2116,  0.1159,  0.0113,  0.0646,\n",
       "        -0.3351, -0.1976,  0.5432, -0.2026, -0.0685,  0.4436,  0.2436, -0.2361,\n",
       "        -0.0592,  0.0692,  0.0390,  0.1748], grad_fn=<SelectBackward0>)"
      ]
     },
     "execution_count": 8,
     "metadata": {},
     "output_type": "execute_result"
    }
   ],
   "source": [
    "output[0, -1] # final forward, initial backward"
   ]
  },
  {
   "cell_type": "code",
   "execution_count": 6,
   "metadata": {},
   "outputs": [
    {
     "data": {
      "text/plain": [
       "tensor([-0.2541,  0.5397,  0.3951,  0.1008,  0.2116,  0.1159,  0.0113,  0.0646,\n",
       "        -0.3351, -0.1976,  0.6079, -0.3324,  0.7227,  0.4230,  0.7632, -0.3598,\n",
       "        -0.0692, -0.4670,  0.5112,  0.1650], grad_fn=<CatBackward0>)"
      ]
     },
     "execution_count": 6,
     "metadata": {},
     "output_type": "execute_result"
    }
   ],
   "source": [
    "torch.cat((hn[-2,0,:], hn[-1,0,:]), dim = 0)"
   ]
  },
  {
   "cell_type": "code",
   "execution_count": 49,
   "metadata": {},
   "outputs": [],
   "source": [
    "import torch\n",
    "import torch.nn as nn\n",
    "\n",
    "torch.manual_seed(0)\n",
    "model = nn.LSTM( input_size = 1, hidden_size = 50, num_layers  = 1 , bidirectional=True)\n",
    "x = torch.rand( 50, 1, 1)\n",
    "output, (hn, cn) = model(x)\n",
    "# print(output[-1])\n",
    "# print(hn)"
   ]
  },
  {
   "cell_type": "code",
   "execution_count": 38,
   "metadata": {},
   "outputs": [
    {
     "name": "stdout",
     "output_type": "stream",
     "text": [
      "torch.Size([50, 1, 100]) torch.Size([2, 1, 50])\n"
     ]
    }
   ],
   "source": [
    "print(output.size(), hn.size())\n"
   ]
  },
  {
   "cell_type": "code",
   "execution_count": null,
   "metadata": {},
   "outputs": [],
   "source": []
  }
 ],
 "metadata": {
  "kernelspec": {
   "display_name": ".venv",
   "language": "python",
   "name": "python3"
  },
  "language_info": {
   "codemirror_mode": {
    "name": "ipython",
    "version": 3
   },
   "file_extension": ".py",
   "mimetype": "text/x-python",
   "name": "python",
   "nbconvert_exporter": "python",
   "pygments_lexer": "ipython3",
   "version": "3.11.9"
  }
 },
 "nbformat": 4,
 "nbformat_minor": 2
}
