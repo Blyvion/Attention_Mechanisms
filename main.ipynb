{
 "cells": [
  {
   "cell_type": "code",
   "execution_count": 1,
   "metadata": {},
   "outputs": [
    {
     "name": "stderr",
     "output_type": "stream",
     "text": [
      "/home/atlesuse/Documents/Attention_Mechanisms/.venv/lib64/python3.11/site-packages/tqdm/auto.py:21: TqdmWarning: IProgress not found. Please update jupyter and ipywidgets. See https://ipywidgets.readthedocs.io/en/stable/user_install.html\n",
      "  from .autonotebook import tqdm as notebook_tqdm\n"
     ]
    }
   ],
   "source": [
    "import torch\n",
    "from torch.utils.data import Dataset, DataLoader\n",
    "from datasets import load_dataset"
   ]
  },
  {
   "cell_type": "code",
   "execution_count": 6,
   "metadata": {},
   "outputs": [
    {
     "name": "stderr",
     "output_type": "stream",
     "text": [
      "Downloading readme: 100%|██████████| 10.5k/10.5k [00:00<00:00, 25.7MB/s]\n",
      "Downloading data: 100%|██████████| 30/30 [03:36<00:00,  7.23s/files]\n",
      "Downloading data: 100%|██████████| 475k/475k [00:00<00:00, 1.96MB/s]\n",
      "Downloading data: 100%|██████████| 536k/536k [00:00<00:00, 4.01MB/s]\n",
      "Generating train split: 100%|██████████| 40836715/40836715 [01:04<00:00, 636356.22 examples/s] \n",
      "Generating validation split: 100%|██████████| 3000/3000 [00:00<00:00, 20895.25 examples/s]\n",
      "Generating test split: 100%|██████████| 3003/3003 [00:00<00:00, 12153.92 examples/s]\n"
     ]
    }
   ],
   "source": [
    "dataset = load_dataset(\"wmt14\", \"fr-en\")"
   ]
  },
  {
   "cell_type": "code",
   "execution_count": 12,
   "metadata": {},
   "outputs": [
    {
     "name": "stdout",
     "output_type": "stream",
     "text": [
      "English: ('All chemical products available to the general public must meet the CCCR, 2001 requirements.', 'The Official Document System was re-engineered to operate on an open-standards platform and to provide search capabilities in all six official languages.', 'He questioned why, if candidate Kinden received full marks for that part of her reply, appellant Ballard did not also get full marks.', 'The Commission therefore rejects the amendments relating to paternity leave.', 'The base case maximum annual S04= concentration in 2020 is predicted to be 4.9 µg/m3.', 'The General Affairs and External Relations Council noted these intentions on the part of the Presidency.', 'Mobility of General Service staff', '”delete international associations of local authorities” and', 'For eight of the imported cases, the exact source was unknown because the patient had traveled in more than one country outside the United States during the exposure period.', 'Annex 6,', 'In these cases, forceful action to terminate these activities, under UN Security Council mandates, is an inescapable and very useful ingredient of the campaign against terrorism.', '• Appendix C - Exemption Certificate', 'Procurement and contract management', 'Frobisher must have begun to fear that his passage was a dead-end bay.', '(e) Analysis of the results of field operations in years 2, 3, 4 and 5 and drafting of the final report.', \"One proposal to deal with the backlog and the increasing number of rape cases is to create a `fast track' court system for cases of rapes and gender based violence.\", 'Federal spending on these programs, including Crop Insurance, now totals about $600 million/year.', 'OJ C 302, 12.12.2006 European Parliament opinion (first reading) and position adopted on 13 February.', 'Security risk assessments could and should support the mainstreaming of security costs for all missions mandated by the respective governing bodies of the organizations participating in the United Nations Security Management System.', 'Please note that all presentation materials have been made available at the discretion of the speakers.', 'One member is equivalent to 4.34 per cent of the total membership of 23 members.', 'Integrate into a user-interface to prevent wrong information from being entered right at the source.', 'A message will be forwarded to the pay office advising them to do the adjustment manually, if a retroactivity is required.', 'Almost every man under 45 years and every woman under 40 years had a mobile phone.', 'The CTF is an independent, non-profit corporation, governed by a Board of Directors comprised of independent directors, industry representatives (broadcasters, producers, distributors), and from the Department of Canadian Heritage.', 'Its diet is almost exclusively limited to small molluscs.', \". . . . . . . . . . . . . . . . . + Current year's amounts returned to employer or employee to be included in employer or employee's income (Attach copy 5 of all T4A-RCA information slips and a photocopy of all NR4 information slips.) . . . . . . . . . . . . . . . . . . . . . . . . . . . . . . . . . . . . . . . . . . + X 2+ Current year's amounts transferred directly to another RCA trust (Attach a copy of the letter of agreement.) . . For more information about transferring amounts between trusts, see page 16 of the RCA Guide. Total distributions (add lines 18 to 21).\", 'Problem: you have a huge image and you want to put it nicely for viewing on a web page.', 'Despite progress in public administration and sector reforms, further efforts are necessary to improve service delivery to citizens and to continue the fight against organized crime and corruption.', 'Strong management response has been shown by such industries as pulp and paper (elimination of dioxins and furans), manufacturing (reduction of packaging), agriculture (conservation tillage), forestry (reforestation), and chemicals (Responsible CareÂ® program).', 'He was noted for his energetic approach and served with distinction in several campaigns against the English and Natives.', 'Oral decision')\n",
      "French: ('Les produits chimiques offerts au public doivent être conformes au RPCCC (2001).', 'Le Sedoc a été reconfiguré de façon à pouvoir fonctionner sur un système ouvert et à offrir des fonctions de recherche dans les six langues officielles.', \"Il a demandé pourquoi Mme Ballard n'avait reçu aucun point pour sa réponse alors que Mme Kinden en a obtenu quatre.\", 'La Commission rejette dès lors les amendements relatifs au congé de paternité.', 'Le scénario de référence de 2020 prévoit une concentration annuelle maximale de SO4= de 4,9 µg/m3.', 'Le Conseil \"Affaires générales et relations extérieures\" a pris note des intentions exprimées par la présidence.', 'Mobilité des agents des services généraux', 'Supprimer les associations internationales de collectivités locales  Par.  52, ligne 5', 'On ne connaissait pas la source exacte de la maladie dans huit des cas importés parce que les patients avaient voyagé dans plus d’un pays à l’extérieur des États-Unis pendant la période d’exposition.', 'Annexe 6,', 'Comme nous l’avons vu, il s’agit moins d’augmenter leur pouvoir que d’utiliser correctement l’autorité existante et de renforcer les ressources matérielles et humaines.', \"• ANNEXE C - Certificat d'exemption\", 'Gestion des achats et des marchés', 'Frobisher commence alors à craindre que ce détroit soit une baie sans issue.', 'e) Analyse des résultats des opérations sur le terrain pendant les deuxième, troisième, quatrième et cinquième années et rédaction du rapport final.', \"On a proposé, pour remédier à ces retards et faire face au nombre croissant d'affaires de viol dont la justice est saisie, de créer une juridiction d'accès rapide pour les affaires de viol et de violence sexiste.\", 'Les dépenses fédérales à l’égard de ces programmes, y compris l’assurance-récolte, totalisent environ 600 millions de dollars par année.', 'JO C 302 du 12.12.2006 Avis en première lecture et position du Parlement européen adoptés le 13 février.', \"Les évaluations des risques de sécurité pouvaient et devaient appuyer l'intégration des coûts de sécurité pour toutes les tâches dont l'exécution avait été demandée par les organes directeurs respectifs des institutions participant au Système de gestion de la sécurité des organismes des Nations Unies.\", 'Des outils de présentations seront parfois mis à votre disposition par les conférenciers(ères).', \"Un membre équivaut à 4,34\\xa0 % de l'ensemble des 23 membres.\", \"Intégration sur l'interface utilisateur pour empêcher le transfert des informations erronées à la source.\", \"Un message sera envoyé au bureau de paie lui demandant d'effectuer manuellement le rajustement, s'il faut faire un calcul en regard à une période de rétroactivité.\", 'Presque chaque homme de moins de 45\\xa0ans et chaque femme de moins de 40\\xa0ans a un téléphone portable.', 'Le FCT consiste en une corporation indépendante sans but lucratif, gouverné par un conseil d’administration comprenant des directeurs indépendants, des représentants de l’industrie (radiodiffuseurs, producteurs, distributeurs) et le ministère du Patrimoine canadien.', 'Son alimentation se limite presque exclusivement aux mollusques de petite taille.', \". . . . . . . . . . . . . . . . + Montants retournés à l'employeur ou à l'employé au cours de l'année qui doivent être inclus dans les revenus de l'employeur ou de l'employé (annexez la copie 5 de tous les feuillets de renseignements T4A-RCA et une photocopie de tous les feuillets de renseignements NR4) . . . . . . . . . . . . . . . . . . . . . . + Montants de l'année en cours transférés directement à une autre FCR (annexez une copie X 2+ de la lettre d'entente) . . . . . . . . . . . . . . . . . . . . . . . . . . . . . . . . . . . . . . . . . . . . . . . . . . . . . . . . . . . . . . Pour en savoir plus sur les montants transférés, lisez la page 17 du guide des CR.\", \"Problème: vous avez une image trop grande et vous désirez la réduire pour qu'elle soit visible sur une page web.\", \"Malgré les progrès des réformes de l'administration publique et des autres structures, il faut redoubler d'efforts pour mieux fournir des services aux populations et continuer à lutter contre la criminalité organisée et la corruption.\", \"Des stratÃ©gies de gestion dynamiques ont Ã©tÃ© adoptÃ©es par des secteurs comme les pÃ¢tes et papiers (Ã©limination des dioxines et des furanes), la fabrication (rÃ©duction de l'emballage), l'agriculture (pratiques de conservation du sol), la foresterie (reboisement) et les produits chimiques (programme Gestion responsableMC).\", 'Il mène de main de maître plusieurs campagnes contre les Anglais et les autochtones et est reconnu pour son approche dynamique.', 'Décision orale')\n"
     ]
    }
   ],
   "source": [
    "class WMT14Dataset(Dataset):\n",
    "\tdef __init__(self, split):\n",
    "\t\tself.data = dataset[split]\n",
    "\n",
    "\tdef __len__(self):\n",
    "\t\treturn len(self.data)\n",
    "\n",
    "\tdef __getitem__(self, idx):\n",
    "\t\titem = self.data[idx]\n",
    "\t\treturn item['translation']['en'], item['translation']['fr']"
   ]
  },
  {
   "cell_type": "code",
   "execution_count": null,
   "metadata": {},
   "outputs": [],
   "source": [
    "batch_size = 32\n",
    "\n",
    "train_dataset = WMT14Dataset(split='train')\n",
    "train_loader = DataLoader(train_dataset, batch_size=batch_size, shuffle=True)\n",
    "\n",
    "validation_dataset = WMT14Dataset(split='validation')\n",
    "validation_loader = DataLoader(validation_dataset, batch_size=batch_size, shuffle=False)\n",
    "\n",
    "test_dataset = WMT14Dataset(split='test')\n",
    "test_loader = DataLoader(test_dataset, batch_size=batch_size, shuffle=False)"
   ]
  },
  {
   "cell_type": "code",
   "execution_count": 13,
   "metadata": {},
   "outputs": [
    {
     "name": "stdout",
     "output_type": "stream",
     "text": [
      "English: ('She asked what legal and media-related measures were being adopted to combat traditional perceptions of women.', '• 235-A-2006 — For an exemption from the application of subsections 64(1) and/or 64(1.1) of the Canada Transportation Act - Air Canada also carrying on business as Air Canada Jetz, on behalf of itself and Jazz Air LP, as represented by its general partner, Jazz Air Holding GP Inc., carrying on business as Air Canada Jazz', 'No.  of admissions to homes administered by MCDS by gender and case type', '(e) Inform government officials and other professionals working with children without parental care that adoptions, in particular international adoptions, are an exceptional alternative care option and that the principles of non-discrimination and the best interests of the child must be taken into account when making such decisions.', 'Fifty-fourth session', 'The Producer must pay royalties to the star Artist or any other Artist bound by an exclusivity agreement.', 'To make this right effective, a procedure must be available in order to ensure that the trial will proceed “without undue delay”, both in first instance and on appeal.', 'Is it related to factor use?', 'Radical measures were taken: infected herds were slaughtered, as were neighbouring herds and contact herds, and although the occurrence of this admittedly limited but nonetheless worrying number of cases was to be expected, after the disease peaked at the beginning of April, the period over which a small number of cases have continued to occur is excessively long, and the Community has asked the British authorities to step up their eradication measures.', 'Contracting resources were used during the strategy development phase and the Canadian Section expensed $25,000 for consultants to support the Government On-Line initiatives.', '◦ Explanation for issuing permit (#10533 & C), pursuant to the provisions of section 74 of SARA - Piping Plover', 'It also shows in our logo, which embodies our motto \"shared knowledge is twice the knowledge\".', \"(a) [Agreed] Achieve the Millennium Declaration target to halve by the year 2015 the proportion of the world's people who suffer from hunger and realize the right to a standard of living adequate for the health and well-being of themselves and their families, including food, including by promoting food security and fighting hunger in combination with measures which address poverty, consistent with the outcome of the World Food Summit and, for States Parties, with their obligations under article 11 of the International Covenant on Economic, Social and Cultural Rights;\", 'These apartments in construction are being built with the well-known Swiss precision and quality.', 'Opposition MPs encountered, amongst other things, the following problems : - Parliamentary debates were rarely broadcast on television or radio and when they were they were manipulated in such a way that dissident opinions were omitted.', 'IN THE MATTER OF Railway Transport Committee Order No. R-40139 dated December 15, 1986, respecting the improvements of the protective devices at the crossing of the railway of Canadian Pacific Limited, at mileage 14.27 Carleton Place Subdivision and Regional Road No. 5, in the Township of Goulbourn, in the Province of Ontario.', 'For example, the personal income tax expenditure associated with the reclassification of flow-through shares is a new item this year.', '- Extent of upgrading, maintenance and support for hardware systems, software tools and network facilities:', 'Many countries have identified the need for capacity-building to help implement the IPF/IFF proposals for action.', 'No waiting period, when unemploy- No waiting period. ment is not caused by any fault of the employee.', 'Twenty or so restaurants spread out on its wide geography will entice you to taste high quality products, harvested by the farmers and fishermen of Buenavista from its excellent natural resources.', '• support the sustainable development of organizations and communities; and', '• Risk to define heritage so broadly it becomes meaningless. TOP ˆ 4.3 Opportunities Regaining the Identities of Minority Cultures (Aboriginal and others)', '- Qualified majority voting on some aspects of security policy; achieving this would be a limited revolution.', 'EDC reinvests its income into its business, enabling EDC to extend the breadth and reach of its services to exporters and investors.', 'Discrimination and segregation compound problems of internal displacement for hundreds of thousands of people Documento - Azerbaijan:', 'Since 2002, she has also been appointed Chairman of the Committee for Equal Opportunities of the City of Milan.', '( 21 ) As Pastor, each Bishop seeks to promote this communio through his ministry, which is a sharing in the pastoral, prophetic and priestly office of Christ.', \"Whether it's our coffee, fresh baked goods, or our homestyle soups and sandwiches, there is something for everyone.\", 'Dr. Oliver was commenting on the lack of commitment for the military in the past.', 'An information display device may be used to show messages from any source, subject to the following requirements:', 'She would also like to know whether trafficking victims were accommodated in the same shelters as victims of domestic violence and, if so, how the specific needs of the various types of victims were addressed.')\n",
      "French: (\"Elle aimerait obtenir des précisions sur les mesures d'ordre juridique et médiatique qui sont prises pour lutter contre les stéréotypes dont sont victimes les femmes.\", \"• 235-A-2006 — Pour accorder une exemption de l'application des paragraphes 64(1) et/ou 64(1.1) de la Loi sur les transports au Canada - Air Canada exerçant également son activité sous le nom d'Air Canada Jetz, en son nom et au nom de Jazz Air S.E.C., représentée par son commandité, Commandité Gestion Jazz Air inc., exerçant son activité sous le nom d'Air Canada Jazz\", \"Admissions dans les établissements administrés par le MCDS  par sexe et par type d'infraction\", \"e) D'informer les fonctionnaires et les autres professionnels qui travaillent avec des enfants privés de protection familiale que les adoptions, en particulier les adoptions internationales, constituent un moyen exceptionnel d'offrir une protection de remplacement et que les principes de la non-discrimination et de l'intérêt supérieur de l'enfant doivent être pris en considération au moment de prendre de telles décisions.\", 'Cinquante-quatrième session', 'Le Producteur doit verser des redevances à l’Artiste vedette ou à tout Artiste lié à une entente d’exclusivité.', 'Pour que ce droit soit effectif, il doit exister une procédure qui\\xa0garantisse que le procès se déroulera «sans retard excessif», que ce soit en première instance ou en appel.', '• Est\\xadce avec l’utilisation de facteurs de production?', \"Des mesures radicales ont été prises : abattage des troupeaux infectés, des troupeaux voisins, des troupeaux-contacts et bien que l'apparition de ce nombre, certes limité mais néanmoins préoccupant, de foyers ait été attendue après un pic de maladie début avril, la période au cours de laquelle un petit nombre de foyers a persisté est néanmoins excessive et la Commission a exigé des autorités britanniques l'intensification de leurs mesures d'éradication.\", 'La Section canadienne a eu recours à des ressources du secteur privé pendant la phase de développement de la stratégie, et elle a versé 25 000 $ à des consultants au titre des initiatives concernant le GED.', \"◦ Raison pour l'Ã©mission du permis (#10533 & C), en vertu des dispositions de l'article 74 de la LEP - Pluvier siffleur\", 'D\\'ailleurs, notre devise \"une connaissance partagée se dédouble\" se retrouve aussi dans notre logo.', \"a) [Convenu] Réaliser l'objectif énoncé dans la Déclaration du Millénaire, à savoir réduire de moitié, d'ici à 2015, la proportion de la population mondiale qui souffre de la faim et de réaliser le droit de chacun à un niveau de vie suffisant pour assurer sa santé, son bien-être et ceux de sa famille, y compris pour l'alimentation, notamment en promouvant la sécurité alimentaire et en luttant contre la faim, parallèlement à l'adoption de mesures visant à réduire la pauvreté qui soient conformes aux résultats du Sommet mondial de l'alimentation et, en ce qui concerne les États partie, aux obligations qui leur incombent en vertu de l'article 11 du Pacte international relatifs aux droits économiques, sociaux et culturels.\", 'Les appartementes sont en construction et conformes á la réputation Suisse; précision et qualité.', \"Les parlementaires de l'opposition rencontrent entre autres les problèmes suivants : - Les débats parlementaires sont rarement diffusés à la télévision ou à la radio, et, lorsque c'est le cas, sont agencés de telle sorte que les opinions dissidentes sont tronquées.\", \"RELATIF à l'ordonnance n° R-40139 du Comité des transports par chemin de fer, en date du 15 décembre 1986, concernant les améliorations des dispositifs de protection au croisement de la voie ferrée de Canadien Pacifique Limitée, au point milliaire 14,27 de la subdivision Carleton Place et du chemin régional n° 5, dans le canton de Goulbourn, dans la province d'Ontario.\", 'Par exemple, l’inclusion de données sur la dépense fiscale liée à l’impôt sur le revenu des particuliers se rapportant au reclassement des actions accréditives est une nouveauté pour cette année.', '- Activités de perfectionnement, de maintenance et d’appui en relation avec le matériel informatique, les logiciels et les dispositifs réseaux :', \"De nombreux pays ont reconnu qu'ils devaient renforcer leurs capacités afin d'être en mesure d'appliquer les propositions d'action du Groupe intergouvernemental/Forum intergouvernemental sur les forêts.\", \"Aucun, si le chômage n'a pas été Pas de délai de carence. causé par une faute du salarié.\", 'Une vingtaine de restaurants répartis sur son ample superficie vous proposeront de déguster des produits d’excellente qualité, extraits par les agriculteurs et les pêcheurs de Buenavista de ses excellentes ressources naturelles.', '• appuyer le développement durable au sein des établissements et des collectivités;', \"• Risque de définir le patrimoine si largement qu'il en perd son sens. dessus ˆ 4.3 Possibilités Réappropriation des identités des cultures minoritaires (autochtones et autres)\", \"Le vote à la majorité qualifiée, sur certains aspects de la politique de sécurité : il s'agirait là d'une petite révolution.\", 'Elle réinvestit ses bénéfices dans ses propres activités, ce qui lui permet d’étendre la portée des services qu’elle offre aux exportateurs et aux investisseurs.', \"Discrimination et ségrégation viennent s'ajouter aux problèmes que rencontrent les centaines de milliers de personnes déplacées à l'intérieur du pays Documento - Azerbaïdjan.\", \"Depuis 2002, elle a également été nommée Présidente du Comité chargé de l'égalité des chances à Milan.\", '( 22 ) En tant que Pasteur, chaque Évêque cherche à promouvoir cette communio à travers son ministère, en prenant part à la charge pastorale, prophétique et sacerdotale du Christ.', 'Que ce soit notre café, nos produits fraîchement sortis du four ou nos potages et sandwiches maison, il y a quelque chose pour tous et chacun chez Tim Hortons.', '» Dean Oliver évoquait alors cette absence d’engagement qui a marqué nos forces dans le passé.', \"5.5.1 Un dispositif d'affichage d'informations peut être utilisé pour afficher des messages provenant de n'importe quelle source, à condition de satisfaire aux prescriptions suivantes\\xa0:\", \"L'oratrice aimerait aussi savoir si les victimes du trafic sont logées dans les mêmes refuges que celles de violence familiale et, dans ce cas, comment l'on répond aux besoins spécifiques des divers types de victimes.\")\n"
     ]
    }
   ],
   "source": [
    "for batch in train_loader:\n",
    "\tenglish_sentences, french_sentences = batch\n",
    "\tprint(\"English:\", english_sentences)\n",
    "\tprint(\"French:\", french_sentences)\n",
    "\tbreak"
   ]
  },
  {
   "cell_type": "raw",
   "metadata": {
    "vscode": {
     "languageId": "raw"
    }
   },
   "source": [
    "Confirmed that from raw hn return from bidirectional network, that hn[0] is forward, hn[1] is backward for first layer."
   ]
  },
  {
   "cell_type": "code",
   "execution_count": 9,
   "metadata": {},
   "outputs": [],
   "source": [
    "class Encoder(torch.nn.Module):\n",
    "\tdef __init__(self, input_size, hidden_size, num_layers=1):\n",
    "\t\tsuper(Encoder, self).__init__()\n",
    "\t\t\n",
    "\t\tself.hidden_size = hidden_size\n",
    "\t\tself.num_layers = num_layers\n",
    "\t\tself.rnn = torch.nn.RNN(input_size, hidden_size, num_layers, bidirectional=True, batch_first=True)\n",
    "\n",
    "\tdef forward(self, x):\n",
    "\t\t# x = batch size, sequence length, hidden size (x2 for bidirectional)\n",
    "\t\t# hn = numlayers*D, batch_size, hidden size\n",
    "\t\tx, hn = self.rnn(x)\n",
    "\t\tbatch_size = x.size()[0]\n",
    "\t\t\n",
    "\t\t# need to get one hidden state that is forward with backwards concatenated\n",
    "\t\thn = hn.view(self.num_layers, 2, batch_size, self.hidden_size) # num_layers, num_directions, batch, hidden_size\n",
    "\t\thn = torch.concat((hn[:, 0, :, :], hn[:, 1, :, :]), dim=2) # num_layers, batch, hidden_size\n",
    "\t\treturn x,hn"
   ]
  },
  {
   "cell_type": "code",
   "execution_count": 10,
   "metadata": {},
   "outputs": [],
   "source": [
    "class Decoder(torch.nn.Module):\n",
    "\tdef __init__(self, input_size, hidden_size, num_layers):\n",
    "\t\tsuper(Decoder, self).__init__()\n",
    "\n",
    "\t\tself.rnn = torch.nn.RNN(input_size, hidden_size, num_layers=1, bidirectional=False, batch_first=True)\n",
    "\n",
    "\tdef forward(self, encoder_output, x):\n",
    "\t\treturn"
   ]
  }
 ],
 "metadata": {
  "kernelspec": {
   "display_name": ".venv",
   "language": "python",
   "name": "python3"
  },
  "language_info": {
   "codemirror_mode": {
    "name": "ipython",
    "version": 3
   },
   "file_extension": ".py",
   "mimetype": "text/x-python",
   "name": "python",
   "nbconvert_exporter": "python",
   "pygments_lexer": "ipython3",
   "version": "3.11.9"
  }
 },
 "nbformat": 4,
 "nbformat_minor": 2
}
